{
  "nbformat": 4,
  "nbformat_minor": 0,
  "metadata": {
    "colab": {
      "provenance": []
    },
    "kernelspec": {
      "name": "python3",
      "display_name": "Python 3"
    },
    "language_info": {
      "name": "python"
    }
  },
  "cells": [
    {
      "cell_type": "markdown",
      "source": [
        "**Main Types of Loops**\n"
      ],
      "metadata": {
        "id": "6OHDnFtH3myG"
      }
    },
    {
      "cell_type": "code",
      "execution_count": null,
      "metadata": {
        "id": "EvPuG_0fQqxb"
      },
      "outputs": [],
      "source": [
        "# Syntax of for loop\n",
        "for val in sequence:\n",
        "      # statement(s) to be executed in sequence as a part of the loop.\n"
      ]
    },
    {
      "cell_type": "code",
      "source": [
        "colors = [\"red\", \"orange\", \"yellow\", \"green\", \"blue\", \"indigo\", \"violet\"]\n",
        "for color in colors:\n",
        "    print(color)"
      ],
      "metadata": {
        "colab": {
          "base_uri": "https://localhost:8080/"
        },
        "id": "kGLBe2TV3pjD",
        "outputId": "d47e5651-b4bb-4b5f-a01f-f6819d75d4fe"
      },
      "execution_count": 1,
      "outputs": [
        {
          "output_type": "stream",
          "name": "stdout",
          "text": [
            "red\n",
            "orange\n",
            "yellow\n",
            "green\n",
            "blue\n",
            "indigo\n",
            "violet\n"
          ]
        }
      ]
    },
    {
      "cell_type": "code",
      "source": [
        "for number in range(1, 11):\n",
        "    print(number)"
      ],
      "metadata": {
        "colab": {
          "base_uri": "https://localhost:8080/"
        },
        "id": "7dew7W-34E2z",
        "outputId": "8a5d8679-a569-40dc-a3c9-9a558c93b5f6"
      },
      "execution_count": 2,
      "outputs": [
        {
          "output_type": "stream",
          "name": "stdout",
          "text": [
            "1\n",
            "2\n",
            "3\n",
            "4\n",
            "5\n",
            "6\n",
            "7\n",
            "8\n",
            "9\n",
            "10\n"
          ]
        }
      ]
    },
    {
      "cell_type": "code",
      "source": [
        "#Range Function\n",
        "for number in range(11):\n",
        "    print(number)"
      ],
      "metadata": {
        "colab": {
          "base_uri": "https://localhost:8080/"
        },
        "id": "Fk46hcCq4Ev_",
        "outputId": "8066afdd-25bc-4b7b-faed-05d352e9b19b"
      },
      "execution_count": 3,
      "outputs": [
        {
          "output_type": "stream",
          "name": "stdout",
          "text": [
            "0\n",
            "1\n",
            "2\n",
            "3\n",
            "4\n",
            "5\n",
            "6\n",
            "7\n",
            "8\n",
            "9\n",
            "10\n"
          ]
        }
      ]
    },
    {
      "cell_type": "markdown",
      "source": [
        "**The Enumerated For Loop**"
      ],
      "metadata": {
        "id": "idVHfgO97lth"
      }
    },
    {
      "cell_type": "code",
      "source": [
        " # The Enumerated For Loop\n",
        "fruits = [\"apple\", \"banana\", \"orange\"]\n",
        "for index, fruit in enumerate(fruits):\n",
        "    print(f\"At position {index}, I found a {fruit}\")"
      ],
      "metadata": {
        "colab": {
          "base_uri": "https://localhost:8080/"
        },
        "id": "dX-8_KBW4EjN",
        "outputId": "0ec3d5e6-9d92-43f7-81f6-c4703319a38f"
      },
      "execution_count": 3,
      "outputs": [
        {
          "output_type": "stream",
          "name": "stdout",
          "text": [
            "At position 0, I found a apple\n",
            "At position 1, I found a banana\n",
            "At position 2, I found a orange\n"
          ]
        }
      ]
    },
    {
      "cell_type": "code",
      "source": [
        "squares=['red', 'yellow', 'green', 'purple', 'blue']\n",
        "\n",
        "for i, square in enumerate(squares):\n",
        "    print(i, square)"
      ],
      "metadata": {
        "colab": {
          "base_uri": "https://localhost:8080/"
        },
        "id": "q_BWp5Kx_qzc",
        "outputId": "b6bde590-0562-4d2f-9114-0afb64177b8e"
      },
      "execution_count": 4,
      "outputs": [
        {
          "output_type": "stream",
          "name": "stdout",
          "text": [
            "0 red\n",
            "1 yellow\n",
            "2 green\n",
            "3 purple\n",
            "4 blue\n"
          ]
        }
      ]
    },
    {
      "cell_type": "markdown",
      "source": [
        "**While Loops**\n"
      ],
      "metadata": {
        "id": "Ezm4r2Kv7zaW"
      }
    },
    {
      "cell_type": "code",
      "source": [
        "count = 1\n",
        "while count <= 10:\n",
        "    print(count)\n",
        "    count += 1"
      ],
      "metadata": {
        "colab": {
          "base_uri": "https://localhost:8080/"
        },
        "id": "1ajT2C9q7xEs",
        "outputId": "55ad6e27-a583-46c3-d3bc-13a96a6c225e"
      },
      "execution_count": 2,
      "outputs": [
        {
          "output_type": "stream",
          "name": "stdout",
          "text": [
            "1\n",
            "2\n",
            "3\n",
            "4\n",
            "5\n",
            "6\n",
            "7\n",
            "8\n",
            "9\n",
            "10\n"
          ]
        }
      ]
    },
    {
      "cell_type": "markdown",
      "source": [
        "The Loop Flow\n",
        "Both for and while loops have their special moves, but they follow a pattern:\n",
        "\n",
        "Initialization: You set up things like a starting point or conditions.\n",
        "\n",
        "Condition: You decide when the loop should keep going and when it should stop.\n",
        "\n",
        "Execution: You do the task inside the loop.\n",
        "\n",
        "Update: You make changes to your starting point or conditions to move forward.\n",
        "\n",
        "Repeat: The loop goes back to step 2 until the condition is no longer true.\n"
      ],
      "metadata": {
        "id": "QeG6-Xqj93MK"
      }
    },
    {
      "cell_type": "markdown",
      "source": [
        "\n",
        "**Key point of While Loop:**\n",
        "A while loop repeatedly executes a block of code as long as a given condition is true.\n",
        "It does not have a fixed number of iterations but continues executing until the condition becomes false.\n",
        "The condition is checked before each iteration, and if it's false initially, the code block is skipped entirely.\n",
        "The condition is typically based on a variable or expression that can change during the execution of the loop.\n",
        "It provides more flexibility in terms of controlling the loop's execution based on dynamic conditions.\n",
        "\n",
        "\n",
        "\n",
        "\n",
        "\n",
        "\n",
        "\n",
        "**Key point of For Loop:**\n",
        "A for loop iterates over a sequence (such as a list, string, or range) or any object that supports iteration.\n",
        "It has a predefined number of iterations based on the length of the sequence or the number of items to iterate over.\n",
        "It automatically handles the iteration and does not require maintaining a separate variable for tracking the iteration count.\n",
        "It simplifies the code by encapsulating the iteration logic within the loop itself.\n",
        "It is commonly used when you know the exact number of iterations or need to iterate over each item in a collection."
      ],
      "metadata": {
        "id": "zA7Db8ci-T2Z"
      }
    },
    {
      "cell_type": "code",
      "source": [],
      "metadata": {
        "id": "akbAdS2196a0"
      },
      "execution_count": null,
      "outputs": []
    },
    {
      "cell_type": "code",
      "source": [],
      "metadata": {
        "id": "fTY2qVKg9so5"
      },
      "execution_count": null,
      "outputs": []
    }
  ]
}