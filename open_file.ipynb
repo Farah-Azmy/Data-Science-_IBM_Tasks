{
  "nbformat": 4,
  "nbformat_minor": 0,
  "metadata": {
    "colab": {
      "provenance": []
    },
    "kernelspec": {
      "name": "python3",
      "display_name": "Python 3"
    },
    "language_info": {
      "name": "python"
    }
  },
  "cells": [
    {
      "cell_type": "markdown",
      "source": [
        "**Reading a file with Open()**"
      ],
      "metadata": {
        "id": "j_1TKGNIWYWc"
      }
    },
    {
      "cell_type": "markdown",
      "source": [
        "\n",
        "**1. Using Python's open function**\n",
        "\n"
      ],
      "metadata": {
        "id": "bPW8RzgET-XV"
      }
    },
    {
      "cell_type": "markdown",
      "source": [
        "File path: The file path parameter consists of the filename and directory where the file is located.\n",
        "\n",
        "Mode: The mode parameter specifies the purpose of opening the file, such as 'r' for reading, 'w' for writing, or 'a' for appending."
      ],
      "metadata": {
        "id": "bhP5KPg2Wdbc"
      }
    },
    {
      "cell_type": "code",
      "execution_count": null,
      "metadata": {
        "id": "XHyluUC3TinR"
      },
      "outputs": [],
      "source": [
        "# Open the file in read ('r') mode\n",
        "file = open('file.txt', 'r')"
      ]
    },
    {
      "cell_type": "markdown",
      "source": [
        "**2. Using 'with' statement**"
      ],
      "metadata": {
        "id": "fMKQfBinXgTP"
      }
    },
    {
      "cell_type": "markdown",
      "source": [
        "To simplify file handling and ensure proper closure of files, Python provides the \"with\" statement. It automatically closes the file when operations within the indented block are completed. This is considered best practice when working with files."
      ],
      "metadata": {
        "id": "woaRH8SLXj5l"
      }
    },
    {
      "cell_type": "code",
      "source": [
        "# Open the file using 'with' in read ('r') mode\n",
        "with open('file.txt', 'r') as file:\n",
        "    # further code"
      ],
      "metadata": {
        "id": "OqMwtnV_XmCU"
      },
      "execution_count": null,
      "outputs": []
    },
    {
      "cell_type": "markdown",
      "source": [
        "1. Reading the entire content"
      ],
      "metadata": {
        "id": "jsSBStIBcAYz"
      }
    },
    {
      "cell_type": "code",
      "source": [
        "# Reading and Storing the Entire Content of a File\n",
        "# Using the read method, you can retrieve the complete content of a file\n",
        "# and store it as a string in a variable for further processing or display.\n",
        "# Step 1: Open the file you want to read\n",
        "with open('file.txt', 'r') as file:\n",
        "    # Step 2: Use the read method to read the entire content of the file\n",
        "    file_stuff = file.read()\n",
        "    # Step 3: Now that the file content is stored in the variable 'file_stuff',\n",
        "    # you can manipulate or display it as needed.\n",
        "    # For example, let's print the content to the console:\n",
        "    print(file_stuff)\n",
        "# Step 4: The 'with' statement automatically closes the file when it's done,\n",
        "# ensuring proper resource management and preventing resource leaks."
      ],
      "metadata": {
        "id": "azL2m6IwcC06"
      },
      "execution_count": null,
      "outputs": []
    },
    {
      "cell_type": "markdown",
      "source": [
        "2. Reading the content line by line\n"
      ],
      "metadata": {
        "id": "g2QUoVOkc0qw"
      }
    },
    {
      "cell_type": "markdown",
      "source": [
        "The 'readlines' method reads the file line by line and stores each line as an element in a list. The order of lines in the list corresponds to their order in the file.\n",
        "\n",
        "The 'readline' method reads individual lines from the file. It can be called multiple times to read subsequent lines.\n"
      ],
      "metadata": {
        "id": "vJG0U1rCc7Oq"
      }
    },
    {
      "cell_type": "code",
      "source": [
        "#Opening a file\n",
        "file = open('file.txt', 'r')\n",
        "\n",
        "#Reading line by line\n",
        "line1 = file.readline()  # Reads the first line\n",
        "line2 = file.readline()  # Reads the second line\n",
        "\n",
        "#Using the lines\n",
        "print(line1)  # Print the first line\n",
        "if 'important' in line2:\n",
        "    print('This line is important!')\n",
        "\n",
        "#Looping through lines\n",
        "while True:\n",
        "    line = file.readline()\n",
        "    if not line:\n",
        "        break  # Stop when there are no more lines to read\n",
        "    print(line)\n",
        "\n",
        "#Closing the book\n",
        "file.close()"
      ],
      "metadata": {
        "id": "CHWdldJBWv49"
      },
      "execution_count": null,
      "outputs": []
    },
    {
      "cell_type": "markdown",
      "source": [
        "**3. Reading specific characters**"
      ],
      "metadata": {
        "id": "urMpJ9DCeUW7"
      }
    },
    {
      "cell_type": "code",
      "source": [
        "file = open('file.txt', 'r')\n",
        "\n",
        "#If you want to read characters from a specific position in the file, you can use the seek() method.\n",
        "#This method moves the file pointer (like a cursor) to a particular position. The position is specified in bytes,\n",
        "#so you'll need to know the byte offset of the characters you want to read.\n",
        "\n",
        "file.seek(10)  # Move to the 11th byte (0-based index)\n",
        "#Read specific characters\n",
        "#To read specific characters, you can use the read() method with an argument that specifies the number of characters to read.\n",
        "# It reads characters starting from the current position of the file pointer.\n",
        "\n",
        "characters = file.read(5)  # Read the next 5 characters\n",
        "#in this example, it reads the next 5 characters from the current position of the file pointer.\n",
        "print(characters)\n",
        "file.close()"
      ],
      "metadata": {
        "id": "a9CEu6WxdZ0O"
      },
      "execution_count": null,
      "outputs": []
    },
    {
      "cell_type": "markdown",
      "source": [
        "\n",
        "**LAB**\n",
        "```\n",
        "# Reading Text Files\n",
        "```\n"
      ],
      "metadata": {
        "id": "6Ziyaw6Lg43S"
      }
    },
    {
      "cell_type": "code",
      "source": [
        "# Read the Example1.txt\n",
        "example1 = \"example1.txt\"\n",
        "file1 = open(example1, \"r\")\n",
        "file1.name\n",
        "file1.mode\n",
        "\n",
        "# Read the file\n",
        "FileContent = file1.read()\n",
        "FileContent\n",
        "\n",
        "#result\n",
        "'This is line 1 \\nThis is line 2\\nThis is line 3'\n",
        "\n",
        "# Print the file with '\\n' as a new line\n",
        "print(FileContent)\n",
        "\n",
        "#result\n",
        "This is line 1\n",
        "This is line 2\n",
        "This is line 3\n",
        "\n",
        "# Type of file content\n",
        "type(FileContent)\n",
        "\n",
        "# Close file after finish\n",
        "file1.close()"
      ],
      "metadata": {
        "id": "FhNMJl_3hIeL"
      },
      "execution_count": null,
      "outputs": []
    },
    {
      "cell_type": "markdown",
      "source": [
        "**A Better Way to Open a File**"
      ],
      "metadata": {
        "id": "fyaKtBTXiOFP"
      }
    },
    {
      "cell_type": "code",
      "source": [
        "# Open file using with\n",
        "\n",
        "with open(example1, \"r\") as file1:\n",
        "    FileContent = file1.read()\n",
        "    print(FileContent)\n",
        "\n",
        "# Verify if the file is closed\n",
        "file1.closed\n",
        "\n",
        "# See the content of file\n",
        "print(FileContent)\n",
        "\n",
        "# Read first four characters\n",
        "\n",
        "    #print(file1.read(4))"
      ],
      "metadata": {
        "id": "uNbELuXSiP-3"
      },
      "execution_count": null,
      "outputs": []
    },
    {
      "cell_type": "code",
      "source": [],
      "metadata": {
        "id": "Dle8mPvyhIas"
      },
      "execution_count": null,
      "outputs": []
    },
    {
      "cell_type": "code",
      "source": [],
      "metadata": {
        "id": "SN0pWTdohIXc"
      },
      "execution_count": null,
      "outputs": []
    },
    {
      "cell_type": "code",
      "source": [],
      "metadata": {
        "id": "dSJMYmA9hIPM"
      },
      "execution_count": null,
      "outputs": []
    },
    {
      "cell_type": "code",
      "source": [],
      "metadata": {
        "id": "MsPGwG7fc41x"
      },
      "execution_count": null,
      "outputs": []
    },
    {
      "cell_type": "code",
      "source": [],
      "metadata": {
        "id": "Er5d1bmMWv1N"
      },
      "execution_count": null,
      "outputs": []
    },
    {
      "cell_type": "code",
      "source": [],
      "metadata": {
        "id": "NfoAZxLpWvyN"
      },
      "execution_count": null,
      "outputs": []
    },
    {
      "cell_type": "code",
      "source": [],
      "metadata": {
        "id": "5whGAp2DWvvg"
      },
      "execution_count": null,
      "outputs": []
    },
    {
      "cell_type": "code",
      "source": [],
      "metadata": {
        "id": "wXtRcvs1WvsQ"
      },
      "execution_count": null,
      "outputs": []
    },
    {
      "cell_type": "code",
      "source": [],
      "metadata": {
        "id": "fFk7HibmWvpl"
      },
      "execution_count": null,
      "outputs": []
    },
    {
      "cell_type": "code",
      "source": [],
      "metadata": {
        "id": "jnMyiozrWvfr"
      },
      "execution_count": null,
      "outputs": []
    }
  ]
}