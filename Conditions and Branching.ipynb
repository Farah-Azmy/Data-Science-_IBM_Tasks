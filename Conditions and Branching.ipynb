{
  "nbformat": 4,
  "nbformat_minor": 0,
  "metadata": {
    "colab": {
      "provenance": []
    },
    "kernelspec": {
      "name": "python3",
      "display_name": "Python 3"
    },
    "language_info": {
      "name": "python"
    }
  },
  "cells": [
    {
      "cell_type": "markdown",
      "source": [
        "Conditions and Branching\n",
        "**bold text**"
      ],
      "metadata": {
        "id": "xqw3mWEHD2rm"
      }
    },
    {
      "cell_type": "markdown",
      "source": [
        "\n",
        " 1. Comparison operations\n",
        "\n",
        "\n",
        "\n"
      ],
      "metadata": {
        "id": "2ZeZkl5iFCGe"
      }
    },
    {
      "cell_type": "code",
      "execution_count": 1,
      "metadata": {
        "colab": {
          "base_uri": "https://localhost:8080/"
        },
        "id": "DBf0bdVoD03W",
        "outputId": "e9840277-9af7-4a9a-ac47-7b6e222eb1a5"
      },
      "outputs": [
        {
          "output_type": "stream",
          "name": "stdout",
          "text": [
            "You are 25 years old.\n"
          ]
        }
      ],
      "source": [
        "# Equality operator\n",
        "age = 25\n",
        "if age == 25:\n",
        "    print(\"You are 25 years old.\")\n",
        "\n"
      ]
    },
    {
      "cell_type": "code",
      "source": [
        "# Inequality operator\n",
        "if age != 30:\n",
        "    print(\"You are not 30 years old.\")"
      ],
      "metadata": {
        "colab": {
          "base_uri": "https://localhost:8080/"
        },
        "id": "dTJbEaarEWT5",
        "outputId": "a61a0a24-82c0-4de8-9557-006fdd426e4c"
      },
      "execution_count": 2,
      "outputs": [
        {
          "output_type": "stream",
          "name": "stdout",
          "text": [
            "You are not 30 years old.\n"
          ]
        }
      ]
    },
    {
      "cell_type": "code",
      "source": [
        "# Greater than and less than\n",
        "age = 25\n",
        "if age>= 20:\n",
        "    print(\"Yes, the Age is greater than 20\")\n"
      ],
      "metadata": {
        "colab": {
          "base_uri": "https://localhost:8080/"
        },
        "id": "g3OH4Er0EWml",
        "outputId": "77cf6a9f-a1b5-41c1-e1cc-163c5dc268f0"
      },
      "execution_count": 7,
      "outputs": [
        {
          "output_type": "stream",
          "name": "stdout",
          "text": [
            "Yes, the Age is greater than 20\n"
          ]
        }
      ]
    },
    {
      "cell_type": "markdown",
      "source": [
        "2. Branching\n",
        "\n"
      ],
      "metadata": {
        "id": "qhtQOvenFLtA"
      }
    },
    {
      "cell_type": "code",
      "source": [
        " # The IF statement\n",
        " age = 20\n",
        "if age >= 21:\n",
        "    print(\"You can enter the bar.\")\n",
        "else:\n",
        "    print(\"Sorry, you cannot enter.\")\n",
        "\n"
      ],
      "metadata": {
        "colab": {
          "base_uri": "https://localhost:8080/"
        },
        "id": "sVi6MiqvEWpC",
        "outputId": "842dce4c-0fd4-4668-bdac-377ba08dec5b"
      },
      "execution_count": 8,
      "outputs": [
        {
          "output_type": "stream",
          "name": "stdout",
          "text": [
            "Sorry, you cannot enter.\n"
          ]
        }
      ]
    },
    {
      "cell_type": "code",
      "source": [
        "# The ELIF Statement\n",
        "if age >= 21:\n",
        "    print(\"You can enter the bar.\")\n",
        "elif age >= 18:\n",
        "    print(\"You can watch a movie.\")\n",
        "else:\n",
        "    print(\"Sorry, you cannot do either.\")"
      ],
      "metadata": {
        "colab": {
          "base_uri": "https://localhost:8080/"
        },
        "id": "gouXCPayEWr0",
        "outputId": "f74ad898-63ae-446b-c211-a34ed0cfe27f"
      },
      "execution_count": 9,
      "outputs": [
        {
          "output_type": "stream",
          "name": "stdout",
          "text": [
            "You can watch a movie.\n"
          ]
        }
      ]
    },
    {
      "cell_type": "code",
      "source": [
        "# Real-life example: Automated Teller Machine (ATM)\n",
        "\n",
        "user_choice = \"Withdraw Cash\"\n",
        "if user_choice == \"Withdraw Cash\":\n",
        "    amount = input(\"Enter the amount to withdraw: \")\n",
        "    amount = int(amount)\n",
        "    if amount % 10 == 0:\n",
        "        dispense_cash(amount)\n",
        "    else:\n",
        "        print(\"Please enter a multiple of 10.\")\n",
        "else:\n",
        "    print(\"Thank you for using the ATM.\")"
      ],
      "metadata": {
        "id": "3kUM7QdWEWvV"
      },
      "execution_count": null,
      "outputs": []
    },
    {
      "cell_type": "markdown",
      "source": [
        "\n",
        "\n",
        " 3. Logical operators\n",
        "\n",
        "\n"
      ],
      "metadata": {
        "id": "2OlOgUcRGdNV"
      }
    },
    {
      "cell_type": "markdown",
      "source": [],
      "metadata": {
        "id": "CtMXofhEGdJ_"
      }
    },
    {
      "cell_type": "code",
      "source": [
        "#The NOT operator\n",
        "Is_do_not_disturb = True\n",
        "if not Is_do_not_disturb:\n",
        "    send_notification(\"New message received\")"
      ],
      "metadata": {
        "id": "StRDncTqEW1T"
      },
      "execution_count": 15,
      "outputs": []
    },
    {
      "cell_type": "code",
      "source": [
        "# The AND operator\n",
        "has_valid_id_card = True\n",
        "has_matching_fingerprint = True\n",
        "if has_valid_id_card and has_matching_fingerprint:\n",
        "    open_high_security_door()\n"
      ],
      "metadata": {
        "id": "-Lx-LA-rEW4F"
      },
      "execution_count": null,
      "outputs": []
    },
    {
      "cell_type": "code",
      "source": [
        "# The OR operator\n",
        "friend1_likes_comedy = True\n",
        "friend2_likes_action = False\n",
        "friend3_likes_drama = False\n",
        "if friend1_likes_comedy or friend2_likes_action or friend3_likes_drama:\n",
        "    choose a movie()"
      ],
      "metadata": {
        "id": "S5gFqyFAEW7U"
      },
      "execution_count": null,
      "outputs": []
    }
  ]
}