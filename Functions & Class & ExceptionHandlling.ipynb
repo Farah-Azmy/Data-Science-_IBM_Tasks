{
  "nbformat": 4,
  "nbformat_minor": 0,
  "metadata": {
    "colab": {
      "provenance": []
    },
    "kernelspec": {
      "name": "python3",
      "display_name": "Python 3"
    },
    "language_info": {
      "name": "python"
    }
  },
  "cells": [
    {
      "cell_type": "markdown",
      "source": [
        "**Functions**"
      ],
      "metadata": {
        "id": "OBW_Kfsdc-di"
      }
    },
    {
      "cell_type": "code",
      "execution_count": null,
      "metadata": {
        "id": "tJFM7J5KLvFO"
      },
      "outputs": [],
      "source": [
        "def calculate_total(a, b):  # Parameters: a and b\n",
        "    total = a + b           # Task: Addition\n",
        "    return total            # Output: Sum of a and b\n",
        "result = calculate_total(5, 7)  # Calling the function with inputs 5 and 7\n",
        "print(result)  # Output: 12\n"
      ]
    },
    {
      "cell_type": "markdown",
      "source": [
        "**Python's built-in functions**\n"
      ],
      "metadata": {
        "id": "Lq3mIg6gdRb4"
      }
    },
    {
      "cell_type": "code",
      "source": [
        "#len(): Calculates the length of a sequence or collection\n",
        "string_length = len(\"Hello, World!\")  # Output: 13\n",
        "list_length = len([1, 2, 3, 4, 5])   # Output: 5"
      ],
      "metadata": {
        "id": "XhFFOcKedPM_"
      },
      "execution_count": null,
      "outputs": []
    },
    {
      "cell_type": "code",
      "source": [
        "# sum(): Adds up the elements in an iterable (list, tuple, and so on)\n",
        "total = sum([10, 20, 30, 40, 50])  # Output: 150\n",
        "\n"
      ],
      "metadata": {
        "id": "yXLFPX-_dPKb"
      },
      "execution_count": null,
      "outputs": []
    },
    {
      "cell_type": "code",
      "source": [
        "# max(): Returns the maximum value in an iterable\n",
        "highest = max([5, 12, 8, 23, 16])  # Output: 23\n"
      ],
      "metadata": {
        "id": "If2s3g48dPIP"
      },
      "execution_count": null,
      "outputs": []
    },
    {
      "cell_type": "code",
      "source": [
        "#min(): Returns the minimum value in an iterable\n",
        "lowest = min([5, 12, 8, 23, 16])  # Output: 5"
      ],
      "metadata": {
        "id": "KUzRRV0vdPGP"
      },
      "execution_count": null,
      "outputs": []
    },
    {
      "cell_type": "markdown",
      "source": [
        "**Defining your functions**"
      ],
      "metadata": {
        "id": "txHN6-mCfFsG"
      }
    },
    {
      "cell_type": "code",
      "source": [
        "def function_name():\n",
        "    pass\n",
        "# A \"pass\" statement in a programming function is a placeholder or a no-op (no operation) statement. Use it when you want to define a function or a code block syntactically but do not want to specify any functionality or implementation at that moment.\n",
        "# No Operation: \"pass\" itself doesn't perform any meaningful action. When the interpreter encounters “pass”, it simply moves on to the next statement without executing any code."
      ],
      "metadata": {
        "id": "Z7UFBQj-fFSO"
      },
      "execution_count": null,
      "outputs": []
    },
    {
      "cell_type": "code",
      "source": [
        "def greet(name):\n",
        "    print(\"Hello, \" + name)\n",
        "result = greet(\"Alice\")\n",
        "print(result)  # Output: Hello, Alice"
      ],
      "metadata": {
        "colab": {
          "base_uri": "https://localhost:8080/"
        },
        "id": "lcmp9DoEdPCp",
        "outputId": "728f6103-d59d-4018-98f1-86042171aa49"
      },
      "execution_count": null,
      "outputs": [
        {
          "output_type": "stream",
          "name": "stdout",
          "text": [
            "Hello, Alice\n",
            "None\n"
          ]
        }
      ]
    },
    {
      "cell_type": "code",
      "source": [
        "def add(a, b):\n",
        "    return a + b\n",
        "sum_result = add(3, 5)  # sum_result gets the value 8\n",
        "print(sum_result)"
      ],
      "metadata": {
        "colab": {
          "base_uri": "https://localhost:8080/"
        },
        "id": "BHTK-DVqdO_0",
        "outputId": "e0d0c04c-132d-4d9e-e311-97806546aede"
      },
      "execution_count": null,
      "outputs": [
        {
          "output_type": "stream",
          "name": "stdout",
          "text": [
            "8\n"
          ]
        }
      ]
    },
    {
      "cell_type": "markdown",
      "source": [
        "**Understanding scopes and variables**"
      ],
      "metadata": {
        "id": "FFsGeT83iCRY"
      }
    },
    {
      "cell_type": "markdown",
      "source": [
        "Global Scope: Variables defined outside functions; accessible everywhere\n",
        "\n",
        "Local Scope: Variables inside functions; only usable within that function"
      ],
      "metadata": {
        "id": "Q3JZvrariHaR"
      }
    },
    {
      "cell_type": "markdown",
      "source": [
        "\n",
        "**Using functions with loops**"
      ],
      "metadata": {
        "id": "L9MmfhJVmYZH"
      }
    },
    {
      "cell_type": "code",
      "source": [
        "def print_numbers(limit):\n",
        "    for i in range(1, limit+1):\n",
        "        print(i)\n",
        "print_numbers(5)  # Output: 1 2 3 4 5"
      ],
      "metadata": {
        "colab": {
          "base_uri": "https://localhost:8080/"
        },
        "id": "1xBqfmJTdO5M",
        "outputId": "7bc0e916-7866-4b0b-fae3-7bea7270a52d"
      },
      "execution_count": null,
      "outputs": [
        {
          "output_type": "stream",
          "name": "stdout",
          "text": [
            "1\n",
            "2\n",
            "3\n",
            "4\n",
            "5\n"
          ]
        }
      ]
    },
    {
      "cell_type": "code",
      "source": [
        "def greet(name):\n",
        "    return \"Hello, \" + name\n",
        "for _ in range(3):\n",
        "    print(greet(\"Alice\"))"
      ],
      "metadata": {
        "colab": {
          "base_uri": "https://localhost:8080/"
        },
        "id": "lOd_Ir7PmpGS",
        "outputId": "b0683e4d-34d0-4379-ceaf-ec46e707efd9"
      },
      "execution_count": null,
      "outputs": [
        {
          "output_type": "stream",
          "name": "stdout",
          "text": [
            "Hello, Alice\n",
            "Hello, Alice\n",
            "Hello, Alice\n"
          ]
        }
      ]
    },
    {
      "cell_type": "markdown",
      "source": [
        "**Modifying data structure using functions**"
      ],
      "metadata": {
        "id": "ls54AS7VmwrR"
      }
    },
    {
      "cell_type": "code",
      "source": [
        "# Part 1: Initialize an empty list\n",
        "\n",
        "my_list = []\n"
      ],
      "metadata": {
        "id": "CXq9WlbFmpDI"
      },
      "execution_count": null,
      "outputs": []
    },
    {
      "cell_type": "code",
      "source": [
        "# Part 2: Define a function to add elements\n",
        "# Function to add an element to the list\n",
        "def add_element(data_structure, element):\n",
        "    data_structure.append(element)"
      ],
      "metadata": {
        "id": "yQK3AHKImpAR"
      },
      "execution_count": null,
      "outputs": []
    },
    {
      "cell_type": "code",
      "source": [
        "# Part 3: Define a function to remove elements\n",
        "# Function to remove an element from the list\n",
        "def remove_element(data_structure, element):\n",
        "    if element in data_structure:\n",
        "        data_structure.remove(element)\n",
        "    else:\n",
        "        print(f\"{element} not found in the list.\")"
      ],
      "metadata": {
        "id": "sgB0DSnOmo-E"
      },
      "execution_count": null,
      "outputs": []
    },
    {
      "cell_type": "code",
      "source": [
        "# Part 4: Add elements to the list\n",
        "# Add elements to the list using the add_element function\n",
        "add_element(my_list, 42)\n",
        "add_element(my_list, 17)\n",
        "add_element(my_list, 99)\n"
      ],
      "metadata": {
        "id": "PNZc5Ed-mo7x"
      },
      "execution_count": null,
      "outputs": []
    },
    {
      "cell_type": "code",
      "source": [
        "# Part 5: Print the current list\n",
        "print(\"Current list:\", my_list)"
      ],
      "metadata": {
        "colab": {
          "base_uri": "https://localhost:8080/"
        },
        "id": "777X_dQCmo4N",
        "outputId": "931e2d3f-b899-4db1-e51b-fdf1b456a438"
      },
      "execution_count": null,
      "outputs": [
        {
          "output_type": "stream",
          "name": "stdout",
          "text": [
            "Current list: [42, 17, 99]\n"
          ]
        }
      ]
    },
    {
      "cell_type": "code",
      "source": [
        "# Part 6: Remove elements from the list\n",
        "# Remove an element from the list using the remove_element function\n",
        "remove_element(my_list, 17)\n",
        "remove_element(my_list, 55)  # This will print a message since 55 is not in the list\n"
      ],
      "metadata": {
        "colab": {
          "base_uri": "https://localhost:8080/"
        },
        "id": "pxFRyfhEmo1s",
        "outputId": "ed571b9a-d90b-436e-9678-c75ec5963cc6"
      },
      "execution_count": null,
      "outputs": [
        {
          "output_type": "stream",
          "name": "stdout",
          "text": [
            "55 not found in the list.\n"
          ]
        }
      ]
    },
    {
      "cell_type": "code",
      "source": [
        "# Part 7: Print the updated list\n",
        "# Print the updated list\n",
        "print(\"Updated list:\", my_list)\n"
      ],
      "metadata": {
        "colab": {
          "base_uri": "https://localhost:8080/"
        },
        "id": "Oo2XoqvFmoyx",
        "outputId": "221d5130-5990-4742-d071-f82f263f37fe"
      },
      "execution_count": null,
      "outputs": [
        {
          "output_type": "stream",
          "name": "stdout",
          "text": [
            "Updated list: [42, 99]\n"
          ]
        }
      ]
    },
    {
      "cell_type": "markdown",
      "source": [
        "**classes and object**"
      ],
      "metadata": {
        "id": "RJJgRDykwfii"
      }
    },
    {
      "cell_type": "markdown",
      "source": [
        "**Classes**\n",
        "A class is a blueprint or template for creating objects. It defines the structure and behavior that its objects will have.\n",
        "\n",
        "Think of a class as a cookie cutter and objects as the cookies cut from that template.\n",
        "\n",
        "In Python, you can create classes using the class keyword.\n",
        "\n",
        "**Creating classes**\n",
        "When you create a class, you specify the attributes(data) and methods (functions) that objects of that class will have.\n",
        "Attributes are defined as variables within the class, and methods are defined as functions.\n",
        "For example,you can design a \"Car\" class with attributes such as \"color\" and \"speed,\" along with methods like \"accelerate.\"\n",
        "\n",
        "**Objects**\n",
        "An object is a fundamental unit in Python that represents a real-world entity or concept.\n",
        "Objects can be tangible (like a car) or abstract (like a student's grade)."
      ],
      "metadata": {
        "id": "O0lUtLQrk-iO"
      }
    },
    {
      "cell_type": "code",
      "source": [
        "class Car:\n",
        "    # Class attribute (shared by all instances)\n",
        "    max_speed = 120  # Maximum speed in km/h\n",
        "    # Constructor method (initialize instance attributes)\n",
        "    def __init__(self, make, model, color, speed=0):\n",
        "        self.make = make\n",
        "        self.model = model\n",
        "        self.color = color\n",
        "        self.speed = speed  # Initial speed is set to 0\n",
        "    # Method for accelerating the car\n",
        "    def accelerate(self, acceleration):\n",
        "        if self.speed + acceleration <= Car.max_speed:\n",
        "            self.speed += acceleration\n",
        "        else:\n",
        "            self.speed = Car.max_speed\n",
        "    # Method to get the current speed of the car\n",
        "    def get_speed(self):\n",
        "        return self.speed"
      ],
      "metadata": {
        "id": "irN3FDp_mowm"
      },
      "execution_count": 1,
      "outputs": []
    },
    {
      "cell_type": "code",
      "source": [
        "# Create objects (instances) of the Car class\n",
        "car1 = Car(\"Toyota\", \"Camry\", \"Blue\")\n",
        "car2 = Car(\"Honda\", \"Civic\", \"Red\")"
      ],
      "metadata": {
        "id": "hLOI7qIkmouC"
      },
      "execution_count": 2,
      "outputs": []
    },
    {
      "cell_type": "code",
      "source": [
        "# Accelerate the cars\n",
        "car1.accelerate(30)\n",
        "car2.accelerate(20)"
      ],
      "metadata": {
        "id": "ygwfuSWOmors"
      },
      "execution_count": 3,
      "outputs": []
    },
    {
      "cell_type": "code",
      "source": [
        "# Print the current speeds of the cars\n",
        "print(f\"{car1.make} {car1.model} is currently at {car1.get_speed()} km/h.\")\n",
        "print(f\"{car2.make} {car2.model} is currently at {car2.get_speed()} km/h.\")"
      ],
      "metadata": {
        "colab": {
          "base_uri": "https://localhost:8080/"
        },
        "id": "mFfokfDMX2Cc",
        "outputId": "92c4ab77-ffda-4ec3-bd41-8d2e1952d23f"
      },
      "execution_count": 4,
      "outputs": [
        {
          "output_type": "stream",
          "name": "stdout",
          "text": [
            "Toyota Camry is currently at 30 km/h.\n",
            "Honda Civic is currently at 20 km/h.\n"
          ]
        }
      ]
    },
    {
      "cell_type": "code",
      "source": [
        "# Import the library\n",
        "\n",
        "import matplotlib.pyplot as plt\n",
        "%matplotlib inline"
      ],
      "metadata": {
        "id": "qzYlqeXjcgcU"
      },
      "execution_count": 5,
      "outputs": []
    },
    {
      "cell_type": "code",
      "source": [
        "# Create a class Circle\n",
        "\n",
        "class Circle(object):\n",
        "\n",
        "    # Constructor\n",
        "    def __init__(self, radius=3, color='blue'):\n",
        "        self.radius = radius\n",
        "        self.color = color\n",
        "\n",
        "    # Method\n",
        "    def add_radius(self, r):\n",
        "        self.radius = self.radius + r\n",
        "        return(self.radius)\n",
        "\n",
        "    # Method\n",
        "    def drawCircle(self):\n",
        "        plt.gca().add_patch(plt.Circle((0, 0), radius=self.radius, fc=self.color))\n",
        "        plt.axis('scaled')\n",
        "        plt.show()"
      ],
      "metadata": {
        "id": "USamnFueX9So"
      },
      "execution_count": 6,
      "outputs": []
    },
    {
      "cell_type": "code",
      "source": [
        "# Create an object RedCircle\n",
        "RedCircle = Circle(10, 'red')"
      ],
      "metadata": {
        "id": "MTsfZWvscp4v"
      },
      "execution_count": 7,
      "outputs": []
    },
    {
      "cell_type": "code",
      "source": [
        "# Print the object attribute color\n",
        "RedCircle.color"
      ],
      "metadata": {
        "colab": {
          "base_uri": "https://localhost:8080/",
          "height": 36
        },
        "id": "wtH3FNOYcsll",
        "outputId": "18313880-e6dc-48d6-89a8-6696738501da"
      },
      "execution_count": 8,
      "outputs": [
        {
          "output_type": "execute_result",
          "data": {
            "text/plain": [
              "'red'"
            ],
            "application/vnd.google.colaboratory.intrinsic+json": {
              "type": "string"
            }
          },
          "metadata": {},
          "execution_count": 8
        }
      ]
    },
    {
      "cell_type": "code",
      "source": [
        "# Set the object attribute radius\n",
        "RedCircle.radius = 1\n",
        "RedCircle.radius"
      ],
      "metadata": {
        "colab": {
          "base_uri": "https://localhost:8080/"
        },
        "id": "c68Ev2NpcvAQ",
        "outputId": "35a35aac-9c3a-4240-866b-f798c350b917"
      },
      "execution_count": 9,
      "outputs": [
        {
          "output_type": "execute_result",
          "data": {
            "text/plain": [
              "1"
            ]
          },
          "metadata": {},
          "execution_count": 9
        }
      ]
    },
    {
      "cell_type": "code",
      "source": [
        "# Call the method drawCircle\n",
        "RedCircle.drawCircle()"
      ],
      "metadata": {
        "colab": {
          "base_uri": "https://localhost:8080/",
          "height": 430
        },
        "id": "nVIb0epgcx4B",
        "outputId": "10b2eecc-3f24-4257-8b3c-02714395d8e7"
      },
      "execution_count": 10,
      "outputs": [
        {
          "output_type": "display_data",
          "data": {
            "text/plain": [
              "<Figure size 640x480 with 1 Axes>"
            ],
            "image/png": "[encoded data removed]"
          },
          "metadata": {}
        }
      ]
    },
    {
      "cell_type": "code",
      "source": [
        "# Use method to change the object attribute radius\n",
        "\n",
        "print('Radius of object:',RedCircle.radius)\n",
        "RedCircle.add_radius(2)\n",
        "print('Radius of object of after applying the method add_radius(2):',RedCircle.radius)\n",
        "RedCircle.add_radius(5)\n",
        "print('Radius of object of after applying the method add_radius(5):',RedCircle.radius)"
      ],
      "metadata": {
        "colab": {
          "base_uri": "https://localhost:8080/"
        },
        "id": "QUGHLNbIgqKK",
        "outputId": "0bc481e1-66c5-4357-e242-8f774159bff1"
      },
      "execution_count": 11,
      "outputs": [
        {
          "output_type": "stream",
          "name": "stdout",
          "text": [
            "Radius of object: 1\n",
            "Radius of object of after applying the method add_radius(2): 3\n",
            "Radius of object of after applying the method add_radius(5): 8\n"
          ]
        }
      ]
    },
    {
      "cell_type": "markdown",
      "source": [
        "**Another example**"
      ],
      "metadata": {
        "id": "DIopRuXCmW1g"
      }
    },
    {
      "cell_type": "code",
      "source": [
        "class Vehicle:\n",
        "    color = \"white\"\n",
        "\n",
        "    def __init__(self, max_speed, mileage):\n",
        "        self.max_speed = max_speed\n",
        "        self.mileage = mileage\n",
        "        self.seating_capacity = None\n",
        "\n",
        "    def assign_seating_capacity(self, seating_capacity):\n",
        "        self.seating_capacity = seating_capacity\n",
        "\n",
        "    def display_properties(self):\n",
        "        print(\"Properties of the Vehicle:\")\n",
        "        print(\"Color:\", self.color)\n",
        "        print(\"Maximum Speed:\", self.max_speed)\n",
        "        print(\"Mileage:\", self.mileage)\n",
        "        print(\"Seating Capacity:\", self.seating_capacity)\n",
        "\n",
        "# Creating objects of the Vehicle class\n",
        "vehicle1 = Vehicle(200, 20)\n",
        "vehicle1.assign_seating_capacity(5)\n",
        "vehicle1.display_properties()\n",
        "\n",
        "vehicle2 = Vehicle(180, 25)\n",
        "vehicle2.assign_seating_capacity(4)\n",
        "vehicle2.display_properties()"
      ],
      "metadata": {
        "colab": {
          "base_uri": "https://localhost:8080/"
        },
        "id": "-wiLBEYuiqUf",
        "outputId": "caf956d2-bb05-48b3-eefa-7cd393554d10"
      },
      "execution_count": 12,
      "outputs": [
        {
          "output_type": "stream",
          "name": "stdout",
          "text": [
            "Properties of the Vehicle:\n",
            "Color: white\n",
            "Maximum Speed: 200\n",
            "Mileage: 20\n",
            "Seating Capacity: 5\n",
            "Properties of the Vehicle:\n",
            "Color: white\n",
            "Maximum Speed: 180\n",
            "Mileage: 25\n",
            "Seating Capacity: 4\n"
          ]
        }
      ]
    },
    {
      "cell_type": "markdown",
      "source": [
        "**Try-Except Block**\n"
      ],
      "metadata": {
        "id": "EYJxSBHi2C0T"
      }
    },
    {
      "cell_type": "code",
      "source": [
        "try: # Code that might raise an exception except\n",
        "ExceptionType: # Code to handle the exception\n",
        "####################################################\n",
        "try:\n",
        "    num = int(input(\"Enter a number: \"))\n",
        "except ValueError:\n",
        "    print(\"Invalid input. Please enter a valid number.\")\n",
        "#####################################################\n",
        "try: # Code that might raise an exception except\n",
        "ExceptionType: # Code to handle the exception\n",
        "else: # Code to execute if no exception occurs\n",
        "#####################################################\n",
        "try:\n",
        "    num = int(input(\"Enter a number: \"))\n",
        "except ValueError:\n",
        "    print(\"Invalid input. Please enter a valid number\")\n",
        "else:\n",
        "    print(\"You entered:\", num)\n"
      ],
      "metadata": {
        "id": "uCch1zEWmdn9"
      },
      "execution_count": null,
      "outputs": []
    },
    {
      "cell_type": "markdown",
      "source": [
        "**Try-Except with Finally Block**\n",
        "\n",
        "\n",
        "Code in the `finally` block always executes, regardless of whether an exception occurred."
      ],
      "metadata": {
        "id": "1xmMuP-i4UGr"
      }
    },
    {
      "cell_type": "code",
      "source": [
        "try: # Code that might raise an exception except\n",
        "ExceptionType: # Code to handle the exception\n",
        "finally: # Code that always executes\n",
        "\n",
        "try:\n",
        "    file = open(\"data.txt\", \"r\")\n",
        "    data = file.read()\n",
        "except FileNotFoundError:\n",
        "    print(\"File not found.\")\n",
        "finally:\n",
        "    file.close()\n",
        ""
      ],
      "metadata": {
        "id": "aspPRq342aDy"
      },
      "execution_count": null,
      "outputs": []
    },
    {
      "cell_type": "code",
      "source": [],
      "metadata": {
        "id": "YzBlGbgN4tSQ"
      },
      "execution_count": null,
      "outputs": []
    },
    {
      "cell_type": "code",
      "source": [],
      "metadata": {
        "id": "MIdLhgMI4tKO"
      },
      "execution_count": null,
      "outputs": []
    },
    {
      "cell_type": "code",
      "source": [],
      "metadata": {
        "id": "T2H31t4A4tHG"
      },
      "execution_count": null,
      "outputs": []
    },
    {
      "cell_type": "code",
      "source": [],
      "metadata": {
        "id": "tJfI7U_14tDi"
      },
      "execution_count": null,
      "outputs": []
    }
  ]
}