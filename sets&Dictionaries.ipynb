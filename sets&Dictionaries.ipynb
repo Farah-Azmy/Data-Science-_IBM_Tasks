{
  "nbformat": 4,
  "nbformat_minor": 0,
  "metadata": {
    "colab": {
      "provenance": []
    },
    "kernelspec": {
      "name": "python3",
      "display_name": "Python 3"
    },
    "language_info": {
      "name": "python"
    }
  },
  "cells": [
    {
      "cell_type": "markdown",
      "source": [
        "**Dictionaries**\n",
        "\n"
      ],
      "metadata": {
        "id": "jmJ8eepVMb0w"
      }
    },
    {
      "cell_type": "code",
      "execution_count": 2,
      "metadata": {
        "colab": {
          "base_uri": "https://localhost:8080/"
        },
        "id": "KigJ0xg3KNTy",
        "outputId": "2f809a7e-cce5-4b26-ab82-afb67b9fb576"
      },
      "outputs": [
        {
          "output_type": "execute_result",
          "data": {
            "text/plain": [
              "{'name': 'John', 'age': 30, 'city': 'New York'}"
            ]
          },
          "metadata": {},
          "execution_count": 2
        }
      ],
      "source": [
        "#A dictionary is a built-in data type that represents a collection of key-value pairs. Dictionaries are enclosed in curly braces {}\n",
        "dict_name = {} #Creates an empty dictionary\n",
        "person = { \"name\": \"John\",  \"age\": 30, \"city\": \"New York\"}\n",
        "person"
      ]
    },
    {
      "cell_type": "code",
      "source": [
        "#1You can access the values in a dictionary using their corresponding keys.\n",
        "#Value = dict_name[\"key_name\"]\n",
        "name = person[\"name\"]\n",
        "age = person[\"age\"]\n",
        "print(name)"
      ],
      "metadata": {
        "colab": {
          "base_uri": "https://localhost:8080/"
        },
        "id": "A1EzOk1xMqvj",
        "outputId": "439b22ef-1bbd-43b4-e3ee-9b2462bf7c45"
      },
      "execution_count": 4,
      "outputs": [
        {
          "output_type": "stream",
          "name": "stdout",
          "text": [
            "John\n"
          ]
        }
      ]
    },
    {
      "cell_type": "code",
      "source": [
        "#Inserts a new key-value pair into the dictionary. If the key already exists, the value will be updated; otherwise, a new entry is created.\n",
        "\n",
        "#dict_name[key] = value\n",
        "person[\"Country\"] = \"USA\" # A new entry will be created.\n",
        "person[\"city\"] = \"Chicago\"  # Update the existing value for the same key\n",
        "person"
      ],
      "metadata": {
        "colab": {
          "base_uri": "https://localhost:8080/"
        },
        "id": "7uB7ijDsM47C",
        "outputId": "ff67284c-5846-47ab-ac7a-d1fac15e723d"
      },
      "execution_count": 10,
      "outputs": [
        {
          "output_type": "execute_result",
          "data": {
            "text/plain": [
              "{'name': 'John', 'age': 30, 'Country': 'USA', 'city': 'Chicago'}"
            ]
          },
          "metadata": {},
          "execution_count": 10
        }
      ]
    },
    {
      "cell_type": "code",
      "source": [
        "#Removes the specified key-value pair from the dictionary. Raises a KeyError if the key does not exist.\n",
        "#del dict_name[key]\n",
        "del person[\"city\"]\n",
        "person"
      ],
      "metadata": {
        "colab": {
          "base_uri": "https://localhost:8080/"
        },
        "id": "K4ug-aFZNbz0",
        "outputId": "27216113-c9c5-4ce4-970c-7a53c1724f13"
      },
      "execution_count": 11,
      "outputs": [
        {
          "output_type": "execute_result",
          "data": {
            "text/plain": [
              "{'name': 'John', 'age': 30, 'Country': 'USA'}"
            ]
          },
          "metadata": {},
          "execution_count": 11
        }
      ]
    },
    {
      "cell_type": "code",
      "source": [
        "#The update() method merges the provided dictionary into the existing dictionary, adding or updating key-value pairs.\n",
        "#dict_name.update({key: value})\n",
        "person.update({\"Profession\": \"Doctor\"})\n",
        "person\n"
      ],
      "metadata": {
        "colab": {
          "base_uri": "https://localhost:8080/"
        },
        "id": "eLy5R7_FNkGG",
        "outputId": "d772eeb7-3846-4af0-9696-03a97ea67c7f"
      },
      "execution_count": 13,
      "outputs": [
        {
          "output_type": "execute_result",
          "data": {
            "text/plain": [
              "{'name': 'John', 'age': 30, 'Country': 'USA', 'Profession': 'Doctor'}"
            ]
          },
          "metadata": {},
          "execution_count": 13
        }
      ]
    },
    {
      "cell_type": "code",
      "source": [
        "#The clear() method empties the dictionary, removing all key-value pairs within it. After this operation, the dictionary is still accessible and can be used further.\n",
        "\n",
        "#dict_name.clear()\n",
        "grades={}\n",
        "grades.clear()\n"
      ],
      "metadata": {
        "id": "sttLr_mnOG7q"
      },
      "execution_count": 15,
      "outputs": []
    },
    {
      "cell_type": "code",
      "source": [
        "#You can check for the existence of a key in a dictionary using the in keyword\n",
        "if \"name\" in person:\n",
        "    print(\"Name exists in the dictionary.\")"
      ],
      "metadata": {
        "colab": {
          "base_uri": "https://localhost:8080/"
        },
        "id": "ke6VYx2LOXby",
        "outputId": "b91e6da6-15ee-4142-d980-1d81744e9b8f"
      },
      "execution_count": 16,
      "outputs": [
        {
          "output_type": "stream",
          "name": "stdout",
          "text": [
            "Name exists in the dictionary.\n"
          ]
        }
      ]
    },
    {
      "cell_type": "code",
      "source": [
        "#Creates a shallow copy of the dictionary. The new dictionary contains the same key-value pairs as the original, but they remain distinct objects in memory.\n",
        "#new_dict = dict_name.copy()\n",
        "new_person = person.copy()\n",
        "new_person = dict(person) # another way to create a copy of dictionary\n"
      ],
      "metadata": {
        "id": "TMcSROTKOigI"
      },
      "execution_count": 17,
      "outputs": []
    },
    {
      "cell_type": "code",
      "source": [
        "#Retrieves all keys from the dictionary and converts them into a list. Useful for iterating or processing keys using list methods.\n",
        "#keys_list = list(dict_name.keys())\n",
        "person_keys = list(person.keys())\n",
        "person_keys"
      ],
      "metadata": {
        "colab": {
          "base_uri": "https://localhost:8080/"
        },
        "id": "oPYS8kX7QGDA",
        "outputId": "a03e3711-ede2-46b1-f888-b449021c5cda"
      },
      "execution_count": 18,
      "outputs": [
        {
          "output_type": "execute_result",
          "data": {
            "text/plain": [
              "['name', 'age', 'Country', 'Profession']"
            ]
          },
          "metadata": {},
          "execution_count": 18
        }
      ]
    },
    {
      "cell_type": "code",
      "source": [
        "#Extracts all values from the dictionary and converts them into a list. This list can be used for further processing or analysis.\n",
        "#values_list = list(dict_name.values())\n",
        "person_values = list(person.values())\n",
        "person_values\n"
      ],
      "metadata": {
        "colab": {
          "base_uri": "https://localhost:8080/"
        },
        "id": "mv91s4tKQGIh",
        "outputId": "7db8f8b3-8cfd-49e4-ac9b-03b72e0747e3"
      },
      "execution_count": 20,
      "outputs": [
        {
          "output_type": "execute_result",
          "data": {
            "text/plain": [
              "['John', 30, 'USA', 'Doctor']"
            ]
          },
          "metadata": {},
          "execution_count": 20
        }
      ]
    },
    {
      "cell_type": "code",
      "source": [
        "#Retrieves all key-value pairs as tuples and converts them into a list of tuples. Each tuple consists of a key and its corresponding value.\n",
        "#items_list = list(dict_name.items())\n",
        "info = list(person.items())\n",
        "info\n"
      ],
      "metadata": {
        "colab": {
          "base_uri": "https://localhost:8080/"
        },
        "id": "thXVJraXQGMg",
        "outputId": "f58dd6be-aed8-41a8-d765-97ae522d6c43"
      },
      "execution_count": 22,
      "outputs": [
        {
          "output_type": "execute_result",
          "data": {
            "text/plain": [
              "[('name', 'John'), ('age', 30), ('Country', 'USA'), ('Profession', 'Doctor')]"
            ]
          },
          "metadata": {},
          "execution_count": 22
        }
      ]
    },
    {
      "cell_type": "markdown",
      "source": [
        "**Sets**\n"
      ],
      "metadata": {
        "id": "9cSsgrYKRDXx"
      }
    },
    {
      "cell_type": "code",
      "source": [
        "#Elements can be added to a set using the `add()` method. Duplicates are automatically removed, as sets only store unique values.\n",
        "#set_name.add(element)\n",
        "fruits=set()\n",
        "fruits.add(\"mango\")\n",
        "fruits"
      ],
      "metadata": {
        "colab": {
          "base_uri": "https://localhost:8080/"
        },
        "id": "K53CYKeMQGQU",
        "outputId": "0e8dd62a-260f-4147-a686-fdafeac85ce7"
      },
      "execution_count": 27,
      "outputs": [
        {
          "output_type": "execute_result",
          "data": {
            "text/plain": [
              "{'mango'}"
            ]
          },
          "metadata": {},
          "execution_count": 27
        }
      ]
    },
    {
      "cell_type": "code",
      "source": [
        "#The `clear()` method removes all elements from the set, resulting in an empty set. It updates the set in-place.\n",
        "#set_name.clear()\n",
        "fruits.clear()\n"
      ],
      "metadata": {
        "id": "NzAgArc3QGUb"
      },
      "execution_count": 29,
      "outputs": []
    },
    {
      "cell_type": "code",
      "source": [
        "#The `copy()` method creates a shallow copy of the set. Any modifications to the copy won't affect the original set.\n",
        "#new_set = set_name.copy()\n",
        "new_fruits = fruits.copy()\n"
      ],
      "metadata": {
        "id": "BCydkXroQGWd"
      },
      "execution_count": 30,
      "outputs": []
    },
    {
      "cell_type": "code",
      "source": [
        "#A set is an unordered collection of unique elements. Sets are enclosed in curly braces `{}`. They are useful for storing distinct values and performing set operations.\n",
        "empty_set = set() #Creating an Empty\n",
        "fruits = {\"apple\", \"banana\", \"orange\"}\n",
        "fruits"
      ],
      "metadata": {
        "colab": {
          "base_uri": "https://localhost:8080/"
        },
        "id": "veXmIHGFR8UW",
        "outputId": "54b865e6-a48f-4512-8568-18ad7cda2c0e"
      },
      "execution_count": 48,
      "outputs": [
        {
          "output_type": "execute_result",
          "data": {
            "text/plain": [
              "{'apple', 'banana', 'orange'}"
            ]
          },
          "metadata": {},
          "execution_count": 48
        }
      ]
    },
    {
      "cell_type": "code",
      "source": [
        "#Use the `discard()` method to remove a specific element from the set. Ignores if the element is not found.\n",
        "#set_name.discard(element)\n",
        "\n",
        "fruits.discard(\"yyyy\")\n",
        "fruits"
      ],
      "metadata": {
        "colab": {
          "base_uri": "https://localhost:8080/"
        },
        "id": "cz7G7uyJSEeJ",
        "outputId": "337f3aa3-1ec8-419c-a521-5e8034cf40db"
      },
      "execution_count": 36,
      "outputs": [
        {
          "output_type": "execute_result",
          "data": {
            "text/plain": [
              "{'banana', 'orange'}"
            ]
          },
          "metadata": {},
          "execution_count": 36
        }
      ]
    },
    {
      "cell_type": "code",
      "source": [
        "#The `issubset()` method checks if the current set is a subset of another set. It returns True if all elements of the current set are present in the other set, otherwise False.\n",
        "#is_subset = set1.issubset(set2)\n",
        "colors=set()\n",
        "is_subset = fruits.issubset(colors)\n",
        "is_subset"
      ],
      "metadata": {
        "colab": {
          "base_uri": "https://localhost:8080/"
        },
        "id": "E31Qk2lCSb1K",
        "outputId": "afff8ca0-174f-4fb5-a3b8-63a53cfb5f19"
      },
      "execution_count": 39,
      "outputs": [
        {
          "output_type": "execute_result",
          "data": {
            "text/plain": [
              "False"
            ]
          },
          "metadata": {},
          "execution_count": 39
        }
      ]
    },
    {
      "cell_type": "code",
      "source": [
        "#The `issuperset()` method checks if the current set is a superset of another set. It returns True if all elements of the other set are present in the current set, otherwise False.\tSyntax:\n",
        "#is_superset = set1.issuperset(set2)\n",
        "\n",
        "is_superset = colors.issuperset(fruits)\n",
        "is_superset"
      ],
      "metadata": {
        "colab": {
          "base_uri": "https://localhost:8080/"
        },
        "id": "fiOo8AwtSs9i",
        "outputId": "0f9976a7-a86a-4017-f94b-ad2ec361438a"
      },
      "execution_count": 41,
      "outputs": [
        {
          "output_type": "execute_result",
          "data": {
            "text/plain": [
              "False"
            ]
          },
          "metadata": {},
          "execution_count": 41
        }
      ]
    },
    {
      "cell_type": "code",
      "source": [
        "#The `pop()` method removes and returns an arbitrary element from the set. It raises a `KeyError` if the set is empty. Use this method to remove elements when the order doesn't matter.\tSyntax:\n",
        "#removed_element = set_name.pop()\n",
        "\n",
        "removed_fruit = fruits.pop()\n",
        "removed_fruit"
      ],
      "metadata": {
        "colab": {
          "base_uri": "https://localhost:8080/",
          "height": 36
        },
        "id": "Xf_ROtM7S-XS",
        "outputId": "393c57ff-bce5-424c-b55d-6748dc97fabf"
      },
      "execution_count": 43,
      "outputs": [
        {
          "output_type": "execute_result",
          "data": {
            "text/plain": [
              "'banana'"
            ],
            "application/vnd.google.colaboratory.intrinsic+json": {
              "type": "string"
            }
          },
          "metadata": {},
          "execution_count": 43
        }
      ]
    },
    {
      "cell_type": "code",
      "source": [
        "#Use the `remove()` method to remove a specific element from the set. Raises a `KeyError` if the element is not found.\tSyntax:\n",
        "#set_name.remove(element)\n",
        "fruits.remove(\"banana\")\n",
        "fruits"
      ],
      "metadata": {
        "colab": {
          "base_uri": "https://localhost:8080/"
        },
        "id": "5hVXO0BWVxWN",
        "outputId": "4e79a47c-1e0c-459a-b338-79ef61abcc02"
      },
      "execution_count": 49,
      "outputs": [
        {
          "output_type": "execute_result",
          "data": {
            "text/plain": [
              "{'apple', 'orange'}"
            ]
          },
          "metadata": {},
          "execution_count": 49
        }
      ]
    },
    {
      "cell_type": "code",
      "source": [
        "#Perform various operations on sets: `union`, `intersection`, `difference`, `symmetric difference`.\tSyntax:\n",
        "\n",
        "set1={1,2,2,3}\n",
        "set2={1,2,2,3}\n",
        "\n",
        "union_set = set1.union(set2)\n",
        "intersection_set = set1.intersection(set2)\n",
        "difference_set = set1.difference(set2)\n",
        "sym_diff_set = set1.symmetric_difference(set2)\n",
        "combined = fruits.union(colors)\n",
        "common = fruits.intersection(colors)\n",
        "unique_to_fruits = fruits.difference(colors)\n",
        "sym_diff = fruits.symmetric_difference(colors)\n"
      ],
      "metadata": {
        "id": "3dQOtIS-V80H"
      },
      "execution_count": 58,
      "outputs": []
    },
    {
      "cell_type": "code",
      "source": [
        "#The `update()` method adds elements from another iterable into the set. It maintains the uniqueness of elements.\tSyntax:\n",
        "#set_name.update(iterable)\n",
        "\n",
        "fruits.update([\"kiwi\", \"grape\"])\n",
        "fruits"
      ],
      "metadata": {
        "colab": {
          "base_uri": "https://localhost:8080/"
        },
        "id": "SNuZHh3hWTpw",
        "outputId": "97f9a830-cc34-4b0f-c11c-7841e94d6618"
      },
      "execution_count": 60,
      "outputs": [
        {
          "output_type": "execute_result",
          "data": {
            "text/plain": [
              "{'apple', 'grape', 'kiwi', 'orange'}"
            ]
          },
          "metadata": {},
          "execution_count": 60
        }
      ]
    },
    {
      "cell_type": "code",
      "source": [],
      "metadata": {
        "id": "XcsETyNMX7af"
      },
      "execution_count": null,
      "outputs": []
    }
  ]
}